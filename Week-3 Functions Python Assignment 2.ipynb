{
 "cells": [
  {
   "cell_type": "markdown",
   "id": "1ccdb050-85be-41df-835a-2bae5b1081ba",
   "metadata": {},
   "source": [
    "# Functions Assignment-3"
   ]
  },
  {
   "cell_type": "markdown",
   "id": "2ac1f2b4-386d-4c8c-80ea-a4057b14c55b",
   "metadata": {},
   "source": [
    "# Q1. Create a python program to sort the given list of tuples based on integer value using a lambda function. l=[('Sachin Tendulkar', 34357), ('Ricky Ponting', 27483), ('Jack Kallis', 25534), ('Virat Kohli', 24936)]"
   ]
  },
  {
   "cell_type": "code",
   "execution_count": 37,
   "id": "98d44c8d-1121-47d6-91ca-991b8b58727f",
   "metadata": {},
   "outputs": [
    {
     "data": {
      "text/plain": [
       "[24936, 25534, 27483, 34357]"
      ]
     },
     "execution_count": 37,
     "metadata": {},
     "output_type": "execute_result"
    }
   ],
   "source": [
    "l=[('Sachin Tendulkar', 34357), ('Ricky Ponting', 27483), ('Jack Kallis', 25534), ('Virat Kohli', 24936)]\n",
    "list(sorted((map( lambda l : l[1] ,l))))"
   ]
  },
  {
   "cell_type": "markdown",
   "id": "eaae9d8e-5063-47d1-8551-0a896819c090",
   "metadata": {},
   "source": [
    "# Q2. Write a Python Program to find the squares of all the numbers in the given list of integers using lambda and map functions. [1, 2, 3, 4, 5, 6, 7, 8, 9, 10]"
   ]
  },
  {
   "cell_type": "code",
   "execution_count": 1,
   "id": "7b1e1606-04e6-4aaf-9257-78917c0ab1f9",
   "metadata": {},
   "outputs": [
    {
     "data": {
      "text/plain": [
       "[1, 4, 9, 16, 25, 36, 49, 64, 81, 100]"
      ]
     },
     "execution_count": 1,
     "metadata": {},
     "output_type": "execute_result"
    }
   ],
   "source": [
    "l=[1,2,3,4,5,6,7,8,9,10]\n",
    "def sq(n):\n",
    "    return n**2\n",
    "list(map(sq,l))"
   ]
  },
  {
   "cell_type": "markdown",
   "id": "1b954d68-9333-47ef-95f1-02f2ecb3df8a",
   "metadata": {},
   "source": [
    "# Q3. Write a python program to convert the given list of integers into a tuple of strings. Use map and lambda functions Given String: [1, 2, 3, 4, 5, 6, 7, 8, 9, 10] Expected output: ('1', '2', '3', '4', '5', '6', '7', '8', '9', '10')"
   ]
  },
  {
   "cell_type": "markdown",
   "id": "01f0a059-e25c-4c9e-b110-85262243c847",
   "metadata": {},
   "source": [
    "# Ans"
   ]
  },
  {
   "cell_type": "code",
   "execution_count": 18,
   "id": "4f757dcf-b165-4c15-a8e5-67982ba365c7",
   "metadata": {},
   "outputs": [
    {
     "name": "stdout",
     "output_type": "stream",
     "text": [
      "('1', '2', '3', '4', '5', '6', '7', '8', '9', '10')\n"
     ]
    }
   ],
   "source": [
    "l=[1,2,3,4,5,6,7,8,9,10]\n",
    "l1=[]\n",
    "s=tuple(map(lambda l : str(l) , l ))\n",
    "print(s)\n"
   ]
  },
  {
   "cell_type": "markdown",
   "id": "35c1f1be-e1dd-4cfb-a31d-2838200afdb7",
   "metadata": {},
   "source": [
    "# Q4. Write a python program using reduce function to compute the product of a list containing numbers from 1 to 25."
   ]
  },
  {
   "cell_type": "markdown",
   "id": "7392b2c0-dddb-49cc-b2f4-4c4d405ae9cd",
   "metadata": {},
   "source": [
    "# Ans"
   ]
  },
  {
   "cell_type": "code",
   "execution_count": 30,
   "id": "1cc0b81f-d04b-45b5-903f-ec3c5b2282f7",
   "metadata": {},
   "outputs": [
    {
     "name": "stdout",
     "output_type": "stream",
     "text": [
      "[1, 2, 3, 4, 5, 6, 7, 8, 9, 10, 11, 12, 13, 14, 15, 16, 17, 18, 19, 20, 21, 22, 23, 24, 25] <class 'list'>\n"
     ]
    },
    {
     "data": {
      "text/plain": [
       "15511210043330985984000000"
      ]
     },
     "execution_count": 30,
     "metadata": {},
     "output_type": "execute_result"
    }
   ],
   "source": [
    "from functools import reduce\n",
    "l=[]\n",
    "for x in range(1,26):\n",
    "    l.append(x)\n",
    "\n",
    "reduce(lambda x,y: x*y , l )"
   ]
  },
  {
   "cell_type": "markdown",
   "id": "780317e4-e55e-4a96-9991-78e0358e5d62",
   "metadata": {},
   "source": [
    "# Q5. Write a python program to filter the numbers in a given list that are divisible by 2 and 3 using the filter function. [2, 3, 6, 9, 27, 60, 90, 120, 55, 46]"
   ]
  },
  {
   "cell_type": "markdown",
   "id": "6fc3ffc2-b455-402f-8714-028ab779e2ac",
   "metadata": {},
   "source": [
    "# Ans"
   ]
  },
  {
   "cell_type": "code",
   "execution_count": 33,
   "id": "dd30ec34-9040-4f91-9960-bd0c1bb0d1d6",
   "metadata": {},
   "outputs": [
    {
     "data": {
      "text/plain": [
       "[6, 60, 90, 120]"
      ]
     },
     "execution_count": 33,
     "metadata": {},
     "output_type": "execute_result"
    }
   ],
   "source": [
    "l=[2, 3, 6, 9, 27, 60, 90, 120, 55, 46]\n",
    "list(filter(lambda x: x%2==0 and x%3==0 , l))"
   ]
  },
  {
   "cell_type": "markdown",
   "id": "3120043f-0fe7-4929-b07a-4eedecc2e9e0",
   "metadata": {},
   "source": [
    "# Q6. Write a python program to find palindromes in the given list of strings using lambda and filter function. ['python', 'php', 'aba', 'radar', 'level']"
   ]
  },
  {
   "cell_type": "markdown",
   "id": "b08b0329-55eb-4982-b4bc-1aa3e31297d8",
   "metadata": {},
   "source": [
    "# Ans"
   ]
  },
  {
   "cell_type": "code",
   "execution_count": 36,
   "id": "940760ea-3964-4159-9d9a-ec8efe1d5a0b",
   "metadata": {},
   "outputs": [
    {
     "data": {
      "text/plain": [
       "['php', 'aba', 'radar', 'level']"
      ]
     },
     "execution_count": 36,
     "metadata": {},
     "output_type": "execute_result"
    }
   ],
   "source": [
    "l=['python', 'php', 'aba', 'radar', 'level']\n",
    "list(filter(lambda x:  x==x[::-1]  , l))"
   ]
  },
  {
   "cell_type": "code",
   "execution_count": null,
   "id": "9c0fa617-084c-4feb-bb45-3ae87799b85c",
   "metadata": {},
   "outputs": [],
   "source": []
  }
 ],
 "metadata": {
  "kernelspec": {
   "display_name": "Python 3 (ipykernel)",
   "language": "python",
   "name": "python3"
  },
  "language_info": {
   "codemirror_mode": {
    "name": "ipython",
    "version": 3
   },
   "file_extension": ".py",
   "mimetype": "text/x-python",
   "name": "python",
   "nbconvert_exporter": "python",
   "pygments_lexer": "ipython3",
   "version": "3.10.8"
  }
 },
 "nbformat": 4,
 "nbformat_minor": 5
}
